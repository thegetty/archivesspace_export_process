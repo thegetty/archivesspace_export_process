{
 "cells": [
  {
   "cell_type": "code",
   "execution_count": 1,
   "id": "e3eb8bfd-f690-4897-8f4b-678f9e7ec726",
   "metadata": {},
   "outputs": [],
   "source": [
    "from idmanagerclient import IDManager\n",
    "from lodgatewayclient import LODGatewayClient\n",
    "import json\n",
    "\n",
    "prod_idm = IDManager(\"https://services.getty.edu/id-management\")\n",
    "rcv = LODGatewayClient(\"https://data.getty.edu/research/collections\")\n",
    "\n",
    "# pretty print\n",
    "def pp(jsondoc):\n",
    "    print(json.dumps(jsondoc, indent=2, sort_keys=True))"
   ]
  },
  {
   "cell_type": "code",
   "execution_count": 2,
   "id": "07b504e2-cacf-4db5-9854-77b74474394e",
   "metadata": {},
   "outputs": [
    {
     "name": "stdout",
     "output_type": "stream",
     "text": [
      "Connected to Production IDM (readonly): True\n",
      "Connected to Production RCV (readonly): True\n"
     ]
    }
   ],
   "source": [
    "print(f\"Connected to Production IDM (readonly): {prod_idm.ready}\")\n",
    "print(f\"Connected to Production RCV (readonly): {rcv.ready}\")"
   ]
  },
  {
   "cell_type": "code",
   "execution_count": 3,
   "id": "40554d78-d3dc-44f5-afab-d1a8ad815310",
   "metadata": {},
   "outputs": [
    {
     "data": {
      "text/plain": [
       "'https://data.getty.edu/research/collections/component/311b7a02-04d1-52d5-ad8d-48c0f04ec86e'"
      ]
     },
     "execution_count": 3,
     "metadata": {},
     "output_type": "execute_result"
    }
   ],
   "source": [
    "# Get a list of collection URIs from IDM (collections have accession numbers)\n",
    "collections = [link['body']['id'] for link in prod_idm.query_links(body_generator=\"lodlvl2\", motivation=\"contains-accno\")]\n",
    "collections[0]\n"
   ]
  },
  {
   "cell_type": "code",
   "execution_count": 4,
   "id": "3e4320a0-7cbc-4991-9b78-9ec98d6c0b11",
   "metadata": {},
   "outputs": [
    {
     "name": "stdout",
     "output_type": "stream",
     "text": [
      "Getty Research Institute Scholars Program images and recordings\n"
     ]
    }
   ],
   "source": [
    "collection_jsonld = rcv.get_item(collections[0])\n",
    "print(collection_jsonld['_label'])"
   ]
  },
  {
   "cell_type": "code",
   "execution_count": 5,
   "id": "5bf8f719-82a4-4892-848f-7c324b6dfff4",
   "metadata": {},
   "outputs": [
    {
     "name": "stdout",
     "output_type": "stream",
     "text": [
      "[\n",
      "  {\n",
      "    \"_label\": \"Learning and scholarship\",\n",
      "    \"id\": \"https://data.getty.edu/research/collections/document/9e6629c1-ea2c-5295-b064-27deead9731a\",\n",
      "    \"type\": \"LinguisticObject\"\n",
      "  },\n",
      "  {\n",
      "    \"_label\": \"Sound recordings\",\n",
      "    \"id\": \"https://data.getty.edu/research/collections/document/53636583-c76a-576c-93ac-c5af73010088\",\n",
      "    \"type\": \"LinguisticObject\"\n",
      "  },\n",
      "  {\n",
      "    \"_label\": \"Congresses and conventions\",\n",
      "    \"id\": \"https://data.getty.edu/research/collections/document/e23bbc93-42bd-5f97-ac46-8a86b919f60c\",\n",
      "    \"type\": \"LinguisticObject\"\n",
      "  },\n",
      "  {\n",
      "    \"_label\": \"Contact sheets\",\n",
      "    \"id\": \"https://data.getty.edu/research/collections/document/344a51b2-d03a-5d2f-bcac-081bd10f0349\",\n",
      "    \"type\": \"LinguisticObject\"\n",
      "  }\n",
      "]\n"
     ]
    }
   ],
   "source": [
    "subjects = collection_jsonld['about']\n",
    "pp(subjects[:4])"
   ]
  },
  {
   "cell_type": "code",
   "execution_count": 6,
   "id": "da24e9cc-b3b4-4fe9-88d8-3b83504b8a74",
   "metadata": {},
   "outputs": [
    {
     "name": "stdout",
     "output_type": "stream",
     "text": [
      "{\n",
      "  \"@context\": \"https://linked.art/ns/v1/linked-art.json\",\n",
      "  \"classified_as\": [\n",
      "    {\n",
      "      \"_label\": \"Subject Heading - Topical\",\n",
      "      \"id\": \"https://data.getty.edu/local/thesaurus/aspace-subject-topical\",\n",
      "      \"type\": \"Type\"\n",
      "    }\n",
      "  ],\n",
      "  \"content\": \"Learning and scholarship\",\n",
      "  \"format\": \"text/html\",\n",
      "  \"id\": \"https://data.getty.edu/research/collections/document/9e6629c1-ea2c-5295-b064-27deead9731a\",\n",
      "  \"identified_by\": [\n",
      "    {\n",
      "      \"classified_as\": [\n",
      "        {\n",
      "          \"_label\": \"generated URL slug\",\n",
      "          \"id\": \"https://data.getty.edu/local/thesaurus/temporary-slug\",\n",
      "          \"type\": \"Type\"\n",
      "        },\n",
      "        {\n",
      "          \"_label\": \"Slug Identifier\",\n",
      "          \"id\": \"https://data.getty.edu/local/thesaurus/slug-identifier\",\n",
      "          \"type\": \"Type\"\n",
      "        }\n",
      "      ],\n",
      "      \"content\": \"10YYA1\",\n",
      "      \"id\": \"https://data.getty.edu/research/collections/document/9e6629c1-ea2c-5295-b064-27deead9731a/slug\",\n",
      "      \"type\": \"Identifier\"\n",
      "    }\n",
      "  ],\n",
      "  \"part\": [\n",
      "    {\n",
      "      \"id\": \"https://data.getty.edu/research/collections/document/9b4d4f93-638a-54a2-836c-f2d46d95d87f\"\n",
      "    }\n",
      "  ],\n",
      "  \"type\": \"LinguisticObject\"\n",
      "}\n"
     ]
    }
   ],
   "source": [
    "subject = rcv.get_item(subjects[0]['id'])\n",
    "pp(subject)"
   ]
  },
  {
   "cell_type": "code",
   "execution_count": 7,
   "id": "bf6d7546-70b6-4814-9834-2923a7f3c287",
   "metadata": {},
   "outputs": [
    {
     "name": "stdout",
     "output_type": "stream",
     "text": [
      "https://data.getty.edu/research/collections/component/311b7a02-04d1-52d5-ad8d-48c0f04ec86e - Getty Research Institute Scholars Program images and recordings\n",
      "https://data.getty.edu/research/collections/component/88e169d7-a535-5e74-a60f-a1ead22496a1 - Guest scholar and conservator files\n"
     ]
    }
   ],
   "source": [
    "# What resources does this subject get applied to?\n",
    "results = rcv.sparql(\"select ?g where { GRAPH ?g {?s ?p <\" + subject['id'] + \"> .}} LIMIT 100\")\n",
    "\n",
    "# Get the label of each thing and print it\n",
    "# (Deal with the SPARQL SELECT JSON response:)\n",
    "for r in results['results']['bindings']:\n",
    "    uri = r['g']['value']\n",
    "    resource = rcv.get_item(uri)\n",
    "    print(f\"{uri} - {resource.get('_label')}\")"
   ]
  },
  {
   "cell_type": "code",
   "execution_count": null,
   "id": "1a2803c8-8321-4b80-b508-177ae243d710",
   "metadata": {},
   "outputs": [],
   "source": []
  }
 ],
 "metadata": {
  "kernelspec": {
   "display_name": "Python 3 (ipykernel)",
   "language": "python",
   "name": "python3"
  },
  "language_info": {
   "codemirror_mode": {
    "name": "ipython",
    "version": 3
   },
   "file_extension": ".py",
   "mimetype": "text/x-python",
   "name": "python",
   "nbconvert_exporter": "python",
   "pygments_lexer": "ipython3",
   "version": "3.11.6"
  }
 },
 "nbformat": 4,
 "nbformat_minor": 5
}
