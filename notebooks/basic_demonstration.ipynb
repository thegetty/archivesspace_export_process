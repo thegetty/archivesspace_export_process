{
 "cells": [
  {
   "cell_type": "code",
   "execution_count": 13,
   "id": "e3eb8bfd-f690-4897-8f4b-678f9e7ec726",
   "metadata": {},
   "outputs": [],
   "source": [
    "from idmanagerclient import IDManager\n",
    "from lodgatewayclient import LODGatewayClient\n",
    "import json\n",
    "\n",
    "prod_idm = IDManager(\"https://services.getty.edu/id-management\")\n",
    "rcv = LODGatewayClient(\"https://data.getty.edu/research/collections\")\n",
    "\n",
    "# pretty print\n",
    "def pp(jsondoc):\n",
    "    print(json.dumps(jsondoc, indent=2, sort_keys=True))"
   ]
  },
  {
   "cell_type": "code",
   "execution_count": 14,
   "id": "07b504e2-cacf-4db5-9854-77b74474394e",
   "metadata": {},
   "outputs": [
    {
     "name": "stdout",
     "output_type": "stream",
     "text": [
      "Connected to Production IDM (readonly): True\n",
      "Connected to Production RCV (readonly): True\n"
     ]
    }
   ],
   "source": [
    "print(f\"Connected to Production IDM (readonly): {prod_idm.ready}\")\n",
    "print(f\"Connected to Production RCV (readonly): {rcv.ready}\")"
   ]
  },
  {
   "cell_type": "code",
   "execution_count": 15,
   "id": "40554d78-d3dc-44f5-afab-d1a8ad815310",
   "metadata": {},
   "outputs": [
    {
     "data": {
      "text/plain": [
       "'https://data.getty.edu/research/collections/component/0f9fa712-f746-5341-96b4-538a8efbe85b'"
      ]
     },
     "execution_count": 15,
     "metadata": {},
     "output_type": "execute_result"
    }
   ],
   "source": [
    "# Get a list of collection URIs from IDM (collections have accession numbers)\n",
    "collections = [link['body']['id'] for link in prod_idm.query_links(body_generator=\"lodlvl2\", motivation=\"contains-accno\")]\n",
    "collections[0]\n"
   ]
  },
  {
   "cell_type": "code",
   "execution_count": 16,
   "id": "3e4320a0-7cbc-4991-9b78-9ec98d6c0b11",
   "metadata": {},
   "outputs": [
    {
     "name": "stdout",
     "output_type": "stream",
     "text": [
      "Getty Research Institute public event records and recordings\n"
     ]
    }
   ],
   "source": [
    "collection_jsonld = rcv.get_item(collections[0])\n",
    "print(collection_jsonld['_label'])"
   ]
  },
  {
   "cell_type": "code",
   "execution_count": 17,
   "id": "5bf8f719-82a4-4892-848f-7c324b6dfff4",
   "metadata": {},
   "outputs": [
    {
     "name": "stdout",
     "output_type": "stream",
     "text": [
      "[\n",
      "  {\n",
      "    \"_label\": \"Artists -- California\",\n",
      "    \"id\": \"https://data.getty.edu/research/collections/document/fe0bb3bf-2d13-5c00-be2b-db3bd01f41a5\",\n",
      "    \"type\": \"LinguisticObject\"\n",
      "  },\n",
      "  {\n",
      "    \"_label\": \"Minimal art\",\n",
      "    \"id\": \"https://data.getty.edu/research/collections/document/ef1d3527-b87d-5b63-9be2-704b871dbabd\",\n",
      "    \"type\": \"LinguisticObject\"\n",
      "  },\n",
      "  {\n",
      "    \"_label\": \"Video art\",\n",
      "    \"id\": \"https://data.getty.edu/research/collections/document/bbbbb263-a129-5f4b-a181-b9be9fb1a8ad\",\n",
      "    \"type\": \"LinguisticObject\"\n",
      "  },\n",
      "  {\n",
      "    \"_label\": \"Art, Modern -- 20th century\",\n",
      "    \"id\": \"https://data.getty.edu/research/collections/document/1971f690-bf90-5e9d-9f6a-256ff3d9cfee\",\n",
      "    \"type\": \"LinguisticObject\"\n",
      "  }\n",
      "]\n"
     ]
    }
   ],
   "source": [
    "subjects = collection_jsonld['about']\n",
    "pp(subjects[:4])"
   ]
  },
  {
   "cell_type": "code",
   "execution_count": 18,
   "id": "da24e9cc-b3b4-4fe9-88d8-3b83504b8a74",
   "metadata": {},
   "outputs": [
    {
     "name": "stdout",
     "output_type": "stream",
     "text": [
      "{\n",
      "  \"@context\": \"https://linked.art/ns/v1/linked-art.json\",\n",
      "  \"classified_as\": [\n",
      "    {\n",
      "      \"_label\": \"Subject Heading - Topical\",\n",
      "      \"id\": \"https://data.getty.edu/local/thesaurus/aspace-subject-topical\",\n",
      "      \"type\": \"Type\"\n",
      "    }\n",
      "  ],\n",
      "  \"content\": \"Artists -- California\",\n",
      "  \"format\": \"text/html\",\n",
      "  \"id\": \"https://data.getty.edu/research/collections/document/fe0bb3bf-2d13-5c00-be2b-db3bd01f41a5\",\n",
      "  \"identified_by\": [\n",
      "    {\n",
      "      \"classified_as\": [\n",
      "        {\n",
      "          \"_label\": \"generated URL slug\",\n",
      "          \"id\": \"https://data.getty.edu/local/thesaurus/temporary-slug\",\n",
      "          \"type\": \"Type\"\n",
      "        },\n",
      "        {\n",
      "          \"_label\": \"Slug Identifier\",\n",
      "          \"id\": \"https://data.getty.edu/local/thesaurus/slug-identifier\",\n",
      "          \"type\": \"Type\"\n",
      "        }\n",
      "      ],\n",
      "      \"content\": \"10PEP3\",\n",
      "      \"id\": \"https://data.getty.edu/research/collections/document/fe0bb3bf-2d13-5c00-be2b-db3bd01f41a5/slug\",\n",
      "      \"type\": \"Identifier\"\n",
      "    }\n",
      "  ],\n",
      "  \"part\": [\n",
      "    {\n",
      "      \"id\": \"https://data.getty.edu/research/collections/document/4f1dc4d6-872c-5770-8ee5-d38992b91405\"\n",
      "    },\n",
      "    {\n",
      "      \"id\": \"https://data.getty.edu/research/collections/document/21233e22-f8cc-5abc-9ceb-d2918393f801\"\n",
      "    }\n",
      "  ],\n",
      "  \"type\": \"LinguisticObject\"\n",
      "}\n"
     ]
    }
   ],
   "source": [
    "subject = rcv.get_item(subjects[0]['id'])\n",
    "pp(subject)"
   ]
  },
  {
   "cell_type": "code",
   "execution_count": 21,
   "id": "bf6d7546-70b6-4814-9834-2923a7f3c287",
   "metadata": {},
   "outputs": [
    {
     "name": "stdout",
     "output_type": "stream",
     "text": [
      "https://data.getty.edu/research/collections/component/3eb56258-f740-56db-8e62-45b9846c9b53 - Sam Francis papers\n",
      "https://data.getty.edu/research/collections/component/0f9fa712-f746-5341-96b4-538a8efbe85b - Getty Research Institute public event records and recordings\n",
      "https://data.getty.edu/research/collections/component/6e938320-c4e6-5821-aaf1-18a95845d286 - Barbara T. Smith papers\n",
      "https://data.getty.edu/research/collections/component/0302c3e8-b951-527c-87f8-3ba8e2d0cd3e - Rolf Nelson Gallery records\n",
      "https://data.getty.edu/research/collections/component/0c934541-1330-5857-aaf3-62f95a09ab8d - Hal Glicksman papers\n",
      "https://data.getty.edu/research/collections/component/6f316612-d39f-54d9-a7f0-3a155a5eae6e - Jan Baum Gallery records\n",
      "https://data.getty.edu/research/collections/component/678c8f47-0e05-56eb-bc81-3b86d0ec0e77 - Getty Research Institute California Video exhibition project files and oral history recordings\n"
     ]
    }
   ],
   "source": [
    "# What resources does this subject get applied to?\n",
    "results = rcv.sparql(\"select ?g where { GRAPH ?g {?s ?p <\" + subject['id'] + \"> .}} LIMIT 100\")\n",
    "\n",
    "# Get the label of each thing and print it\n",
    "# (Deal with the SPARQL SELECT JSON response:)\n",
    "for r in results['results']['bindings']:\n",
    "    uri = r['g']['value']\n",
    "    resource = rcv.get_item(uri)\n",
    "    print(f\"{uri} - {resource.get('_label')}\")"
   ]
  },
  {
   "cell_type": "code",
   "execution_count": null,
   "id": "1a2803c8-8321-4b80-b508-177ae243d710",
   "metadata": {},
   "outputs": [],
   "source": []
  }
 ],
 "metadata": {
  "kernelspec": {
   "display_name": "Python 3 (ipykernel)",
   "language": "python",
   "name": "python3"
  },
  "language_info": {
   "codemirror_mode": {
    "name": "ipython",
    "version": 3
   },
   "file_extension": ".py",
   "mimetype": "text/x-python",
   "name": "python",
   "nbconvert_exporter": "python",
   "pygments_lexer": "ipython3",
   "version": "3.11.6"
  }
 },
 "nbformat": 4,
 "nbformat_minor": 5
}
